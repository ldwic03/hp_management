{
 "cells": [
  {
   "cell_type": "markdown",
   "metadata": {},
   "source": [
    "O'REILLYの著書『[退屈なことはPythonにやらせよう](https://www.oreilly.co.jp/books/9784873117782/)』で「正規表現」について記載されているところをまとめたノートです。\n",
    "\n",
    "正規表現はCtrl-Fのテキスト検索でも気軽に使えて大変便利なので、以下のまとめはpython3での正規表現の初歩的な使い方をまとめたものですが、知らなかった人は見てみてもいいかもです。\n"
   ]
  },
  {
   "cell_type": "markdown",
   "metadata": {},
   "source": [
    "## 要点\n",
    "\n",
    "### メタ文字\n",
    "- `?`は、直前のグループの0回か1回の出現にマッチする。（任意のマッチ）\n",
    "- `*`は、直前のグループの0回以上の出現にマッチする。\n",
    "- `+`は、直前のグループの1回以上の出現にマッチする。\n",
    "- `{n}`は、直前のグループのn回の出現にマッチする。\n",
    "- `{n,}`は、直前のグループのn回以上の出現にマッチする。\n",
    "- `{,m}`は、直前のグループの0~m回の出現にマッチする。\n",
    "- `{n,m}?`、`?`、`+?`は直前のグループの非貪欲マッチを行う。\n",
    "\n",
    "### 文字集合\n",
    "- `\\d`：0~9の数字\n",
    "- `\\D`：0~9の数字以外\n",
    "- `\\w`：文字、数字、下線（単語wordのw）\n",
    "- `\\W`：文字、数字、下線以外\n",
    "- `\\s`：スペース、タブ、改行（空白spaceのs）\n",
    "- `\\S`：スペース、タブ、改行以外\n",
    "\n",
    "### 正規表現マッチのまとめ\n",
    "- `re`モジュール\n",
    "- `re.compile()`関数\n",
    "- `search()`メソッド\n",
    "- `group()`メソッド\n",
    "- `findall()`メソッド\n"
   ]
  },
  {
   "cell_type": "markdown",
   "metadata": {},
   "source": [
    "## 実践"
   ]
  },
  {
   "cell_type": "code",
   "execution_count": 1,
   "metadata": {},
   "outputs": [],
   "source": [
    "#! python 3\n",
    "#正規表現モジュールのインポート\n",
    "import re"
   ]
  },
  {
   "cell_type": "markdown",
   "metadata": {},
   "source": [
    "### '\\d'は1文字の数字を表す正規表現\n",
    "`\\d`を用いて、あるtextから、電話番号パターンにマッチする部分を検索しましょう。\n",
    "`re.compile()`に正規表現パターンを表す文字列を渡すと、Regexオブジェクトが返ります。"
   ]
  },
  {
   "cell_type": "code",
   "execution_count": 2,
   "metadata": {},
   "outputs": [],
   "source": [
    "phone_num_regex = re.compile(r'\\d\\d\\d-\\d\\d\\d\\d-\\d\\d\\d\\d')"
   ]
  },
  {
   "cell_type": "markdown",
   "metadata": {},
   "source": [
    "文字列の前の`r`はraw文字列を指定し、文字をエスケープせずに簡潔に表現しています。\n",
    "\n",
    "### search()メソッドとgroup()メソッド\n",
    "Regexオブジェクトの`search()`メソッドは、渡された文字列の中から正規表現にマッチするパターンが見つかれば、Matchオブジェクトを返します。\n",
    "Matchオブジェクトには`group()`メソッドがあり、実際にマッチしたテキストを返します"
   ]
  },
  {
   "cell_type": "code",
   "execution_count": 3,
   "metadata": {},
   "outputs": [
    {
     "name": "stdout",
     "output_type": "stream",
     "text": [
      "電話番号が見つかりました：080-1111-2222\n"
     ]
    }
   ],
   "source": [
    "mo = phone_num_regex.search('私の電話番号は080-1111-22222です。')\n",
    "print('電話番号が見つかりました：' + mo.group())"
   ]
  },
  {
   "cell_type": "markdown",
   "metadata": {},
   "source": [
    "### '()'を用いたグルーピング"
   ]
  },
  {
   "cell_type": "code",
   "execution_count": 4,
   "metadata": {},
   "outputs": [],
   "source": [
    "phone_num_regex = re.compile(r'(\\d\\d\\d)-(\\d\\d\\d\\d-\\d\\d\\d\\d)')\n",
    "mo = phone_num_regex.search('私の電話番号は080-1000-2000です。')"
   ]
  },
  {
   "cell_type": "code",
   "execution_count": 5,
   "metadata": {},
   "outputs": [
    {
     "name": "stdout",
     "output_type": "stream",
     "text": [
      "080-1000-2000\n",
      "080\n",
      "1000-2000\n",
      "('080', '1000-2000')\n"
     ]
    }
   ],
   "source": [
    "print(mo.group(0))\n",
    "print(mo.group(1))\n",
    "print(mo.group(2))\n",
    "print(mo.groups())"
   ]
  },
  {
   "cell_type": "markdown",
   "metadata": {},
   "source": [
    "### '|'を使って複数のグループとマッチ\n",
    "例えば`r'Batman|Spiderman'`という正規表現は、`'Batman'`or`'Spiderman'`にマッチします。"
   ]
  },
  {
   "cell_type": "code",
   "execution_count": 6,
   "metadata": {},
   "outputs": [
    {
     "data": {
      "text/plain": [
       "'Batman'"
      ]
     },
     "execution_count": 6,
     "metadata": {},
     "output_type": "execute_result"
    }
   ],
   "source": [
    "hero_regex = re.compile(r'Batman|Spiderman')\n",
    "mo1 = hero_regex.search('Batman and Yasmizuman')\n",
    "mo1.group()"
   ]
  },
  {
   "cell_type": "markdown",
   "metadata": {},
   "source": [
    "両方ある場合は最初に出現したほうが返ります。"
   ]
  },
  {
   "cell_type": "code",
   "execution_count": 7,
   "metadata": {},
   "outputs": [
    {
     "data": {
      "text/plain": [
       "'Spiderman'"
      ]
     },
     "execution_count": 7,
     "metadata": {},
     "output_type": "execute_result"
    }
   ],
   "source": [
    "mo2 = hero_regex.search('The Spiderman fights Batman and Yasumizuman')\n",
    "mo2.group()"
   ]
  },
  {
   "cell_type": "markdown",
   "metadata": {},
   "source": [
    "### 丸カッコと縦線とを応用"
   ]
  },
  {
   "cell_type": "code",
   "execution_count": 8,
   "metadata": {},
   "outputs": [
    {
     "data": {
      "text/plain": [
       "'man'"
      ]
     },
     "execution_count": 8,
     "metadata": {},
     "output_type": "execute_result"
    }
   ],
   "source": [
    "yasumizu_regex = re.compile(r'Yasumizu(man|woman|hotel)')\n",
    "mo = yasumizu_regex.search('Yasumizuman lost his way back to Yasumizuhotel.')\n",
    "mo.group(1)"
   ]
  },
  {
   "cell_type": "markdown",
   "metadata": {},
   "source": [
    "### '?'を用いた任意のマッチ"
   ]
  },
  {
   "cell_type": "code",
   "execution_count": 9,
   "metadata": {},
   "outputs": [
    {
     "data": {
      "text/plain": [
       "'Yasumizuman'"
      ]
     },
     "execution_count": 9,
     "metadata": {},
     "output_type": "execute_result"
    }
   ],
   "source": [
    "yasu_regex = re.compile(r'Yasumizu(wo)?man')\n",
    "mo1 = yasu_regex.search('The Adveture of Yasumizuman')\n",
    "mo1.group()"
   ]
  },
  {
   "cell_type": "code",
   "execution_count": 10,
   "metadata": {},
   "outputs": [
    {
     "data": {
      "text/plain": [
       "'Yasumizuwoman'"
      ]
     },
     "execution_count": 10,
     "metadata": {},
     "output_type": "execute_result"
    }
   ],
   "source": [
    "mo2 = yasu_regex.search('The Adveture of Yasumizuwoman')\n",
    "mo2.group()"
   ]
  },
  {
   "cell_type": "markdown",
   "metadata": {},
   "source": [
    "### '*'を用いた0回以上のマッチ"
   ]
  },
  {
   "cell_type": "code",
   "execution_count": 11,
   "metadata": {},
   "outputs": [
    {
     "data": {
      "text/plain": [
       "'Yasuzu'"
      ]
     },
     "execution_count": 11,
     "metadata": {},
     "output_type": "execute_result"
    }
   ],
   "source": [
    "yasu_regex = re.compile(r'Yasu(mi)*zu')\n",
    "mo1 = yasu_regex.search('The Adventure of Yasuzu')\n",
    "mo1.group()"
   ]
  },
  {
   "cell_type": "code",
   "execution_count": 12,
   "metadata": {},
   "outputs": [
    {
     "data": {
      "text/plain": [
       "'Yasumimimimimimimizu'"
      ]
     },
     "execution_count": 12,
     "metadata": {},
     "output_type": "execute_result"
    }
   ],
   "source": [
    "mo2 = yasu_regex.search('The Adventure of Yasumimimimimimimizu')\n",
    "mo2.group()"
   ]
  },
  {
   "cell_type": "markdown",
   "metadata": {},
   "source": [
    "### '+'を用いた1回以上のマッチ"
   ]
  },
  {
   "cell_type": "code",
   "execution_count": 13,
   "metadata": {},
   "outputs": [
    {
     "data": {
      "text/plain": [
       "'Yasumimimimimizu'"
      ]
     },
     "execution_count": 13,
     "metadata": {},
     "output_type": "execute_result"
    }
   ],
   "source": [
    "yasu_regex = re.compile(r'Yasu(mi)+zu')\n",
    "mo1 = yasu_regex.search('The Adventure of Yasumimimimimizu')\n",
    "mo1.group()"
   ]
  },
  {
   "cell_type": "code",
   "execution_count": 14,
   "metadata": {},
   "outputs": [
    {
     "data": {
      "text/plain": [
       "True"
      ]
     },
     "execution_count": 14,
     "metadata": {},
     "output_type": "execute_result"
    }
   ],
   "source": [
    "mo2 = yasu_regex.search('The Adventure of Yasuzu')\n",
    "mo2 == None"
   ]
  },
  {
   "cell_type": "markdown",
   "metadata": {},
   "source": [
    "### '{}'を用いて繰り返し回数を指定する\n",
    "例：`(Ha){3} = (HaHaHa) , (Ha){3,5} = (HaHaHa|HaHaHaHa|HaHaHaHaHa)`"
   ]
  },
  {
   "cell_type": "code",
   "execution_count": 15,
   "metadata": {},
   "outputs": [
    {
     "data": {
      "text/plain": [
       "'HaHaHaHaHa'"
      ]
     },
     "execution_count": 15,
     "metadata": {},
     "output_type": "execute_result"
    }
   ],
   "source": [
    "ha_regex = re.compile(r'(Ha){3,5}')\n",
    "mo1 = ha_regex.search('HaHaHaHaHa')\n",
    "mo1.group()"
   ]
  },
  {
   "cell_type": "code",
   "execution_count": 16,
   "metadata": {},
   "outputs": [
    {
     "data": {
      "text/plain": [
       "True"
      ]
     },
     "execution_count": 16,
     "metadata": {},
     "output_type": "execute_result"
    }
   ],
   "source": [
    "mo2 = ha_regex.search('Ha')\n",
    "mo2 == None"
   ]
  },
  {
   "cell_type": "markdown",
   "metadata": {},
   "source": [
    "### 貪欲マッチ：ジャガビーは一番長いものをとる。\n",
    "Pythonの正規表現は、デフォルトでは貪欲マッチです。つまり、複数の可能性があると最も長い方にマッチします。"
   ]
  },
  {
   "cell_type": "code",
   "execution_count": 17,
   "metadata": {},
   "outputs": [
    {
     "data": {
      "text/plain": [
       "'HaHaHaHaHa'"
      ]
     },
     "execution_count": 17,
     "metadata": {},
     "output_type": "execute_result"
    }
   ],
   "source": [
    "greedy_Ha_regex = re.compile(r'(Ha){3,5}')\n",
    "mo1 = greedy_Ha_regex.search('HaHaHaHaHaHaHaHaHaHaHa')\n",
    "mo1.group()"
   ]
  },
  {
   "cell_type": "markdown",
   "metadata": {},
   "source": [
    "### 非貪欲マッチ：遠慮して一番短いものをとる\n",
    "閉じカッコの後に`?`"
   ]
  },
  {
   "cell_type": "code",
   "execution_count": 18,
   "metadata": {},
   "outputs": [
    {
     "data": {
      "text/plain": [
       "'HaHaHa'"
      ]
     },
     "execution_count": 18,
     "metadata": {},
     "output_type": "execute_result"
    }
   ],
   "source": [
    "nongreedy_Ha_regex = re.compile(r'(Ha){3,5}?')\n",
    "mo2 = nongreedy_Ha_regex.search('HaHaHaHaHaHaHaHaHaHaHa')\n",
    "mo2.group()"
   ]
  },
  {
   "cell_type": "markdown",
   "metadata": {},
   "source": [
    "### findall()メソッド\n",
    "`search()`が最初に見つかった文字列を返すのに対し、`findall()`は見つかったすべての文字列を返します。\n",
    "`findall()`はタプルのリストを返すことに注意。"
   ]
  },
  {
   "cell_type": "code",
   "execution_count": 19,
   "metadata": {},
   "outputs": [
    {
     "data": {
      "text/plain": [
       "['415-5555-9999', '212-5555-0000']"
      ]
     },
     "execution_count": 19,
     "metadata": {},
     "output_type": "execute_result"
    }
   ],
   "source": [
    "phone_num_regex = re.compile(r'\\d\\d\\d-\\d\\d\\d\\d-\\d\\d\\d\\d')\n",
    "phone_num_regex.findall('Cell: 415-5555-9999 Work: 212-5555-0000')"
   ]
  },
  {
   "cell_type": "code",
   "execution_count": 20,
   "metadata": {},
   "outputs": [
    {
     "data": {
      "text/plain": [
       "[('415', '5555', '9999'), ('212', '5555', '0000')]"
      ]
     },
     "execution_count": 20,
     "metadata": {},
     "output_type": "execute_result"
    }
   ],
   "source": [
    "phone_num_regex = re.compile(r'(\\d\\d\\d)-(\\d\\d\\d\\d)-(\\d\\d\\d\\d)')\n",
    "phone_num_regex.findall('Cell: 415-5555-9999 Work: 212-5555-0000')"
   ]
  },
  {
   "cell_type": "markdown",
   "metadata": {},
   "source": [
    "続きはありますが、あまり出しすぎるとネタが無くなるので、今回はここまでにしておきます。\n",
    "また書きます。\n",
    "\n",
    "上記の内容をうまく利用して、自分で電子メールアドレスの正規表現を作ってみてもおもしろいと思います。\n",
    "\n",
    "\n",
    "## 正規表現について、さらに詳しく\n",
    "\n",
    "- <a href=\"https://docs.python.jp/3/library/re.html\">6.2. re — 正規表現操作 — Python 3.6.3 ドキュメント</a>\n",
    "- <a href=\"https://qiita.com/dongri/items/2a0a18e253eb5bf9edba\">よく使う正規表現はもうググりたくない！ - Qiita</a>"
   ]
  }
 ],
 "metadata": {
  "kernelspec": {
   "display_name": "Python 3",
   "language": "python",
   "name": "python3"
  },
  "language_info": {
   "codemirror_mode": {
    "name": "ipython",
    "version": 3
   },
   "file_extension": ".py",
   "mimetype": "text/x-python",
   "name": "python",
   "nbconvert_exporter": "python",
   "pygments_lexer": "ipython3",
   "version": "3.7.6"
  }
 },
 "nbformat": 4,
 "nbformat_minor": 4
}
