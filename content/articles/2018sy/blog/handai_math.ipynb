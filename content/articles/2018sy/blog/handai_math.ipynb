{
 "cells": [
  {
   "cell_type": "markdown",
   "metadata": {},
   "source": [
    "## なぜ入試数学をPythonで？？\n",
    "Pythonについていろいろ調べているうちに、なんとプログラミングで数学の問題が解ける！ということを知りました。\n",
    "\n",
    "コードの勉強にもなると思い、じゃあやってみよう！ということで、今回の記事に至りました。\n",
    "\n",
    "## どの問題を解くか？\n",
    "いろいろなサイトでPythonで入試数学を解く記事は見つかります。京大、東大、センター数学などなど。\n",
    "\n",
    "ですが、阪大数学を扱っているものはありませんでした。ならば、せっかくなので阪大数学を解こう！ということになりました。これには、自分の受けた試験を再び解く、というのもなんとなく感慨深かったことも理由としてあります。\n",
    "\n",
    "※なお、プログラミングで解くことを重視し、本来の数学的な厳密な議論は飛ばしているため、「入試の解答」とはかけ離れたものになります。以上ご了承ください。\n",
    "\n",
    "## 環境\n",
    "- `Python3.6.1`\n",
    "- `sympy`：sympyはPythonのライブラリの一つで、記号計算を行うものです。\n",
    "\n",
    "各問題共通のコードとして、sympyをインポートしておきます。"
   ]
  },
  {
   "cell_type": "code",
   "execution_count": 1,
   "metadata": {},
   "outputs": [],
   "source": [
    "%matplotlib inline\n",
    "import matplotlib.pyplot as plt\n",
    "import numpy as np\n",
    "import sympy as sy\n",
    "sy.init_printing() # Jupyter Notebook上で、レンダリングされた結果を表示する"
   ]
  },
  {
   "cell_type": "markdown",
   "metadata": {},
   "source": [
    "## 大阪大学2018年 理系数学 第１問"
   ]
  },
  {
   "cell_type": "markdown",
   "metadata": {},
   "source": [
    "![問](https://raw.githubusercontent.com/oumpy/hp_management/master/content/articles/2018sy/Tech_archive/images/handai_math_figs/1.png)"
   ]
  },
  {
   "cell_type": "markdown",
   "metadata": {},
   "source": [
    "### (1)\n",
    "\n",
    "#### <方針>\n",
    "普通に解くなら、$y=$(真ん中)$-$(左)、$y=$(右)$-$(真ん中)、とおいて、  \n",
    "微分 → 増減表 → グラフ → $x>0$で$y>0$  \n",
    "という流れで示すのが一般的だと思いますが、`sympy`では、簡単にグラフが書けるので、一気にグラフを描いて示します。"
   ]
  },
  {
   "cell_type": "code",
   "execution_count": 2,
   "metadata": {},
   "outputs": [],
   "source": [
    "x = sy.symbols('x')"
   ]
  },
  {
   "cell_type": "markdown",
   "metadata": {},
   "source": [
    "変数`ｘ`を`symbols()`を用いて変数定義します"
   ]
  },
  {
   "cell_type": "code",
   "execution_count": 3,
   "metadata": {},
   "outputs": [],
   "source": [
    "expr1 = x-x**2/2\n",
    "expr2 = sy.log(1+x)\n",
    "expr3 = x/sy.sqrt(1+x)"
   ]
  },
  {
   "cell_type": "markdown",
   "metadata": {},
   "source": [
    "3式をそれぞれ`expr1,2,3`と名前を付けて宣言します。なお、`sy.log()`で自然対数 $\\log$ を定義できます。\n",
    "`sy.sqrt`は平方根です。"
   ]
  },
  {
   "cell_type": "code",
   "execution_count": 4,
   "metadata": {},
   "outputs": [
    {
     "data": {
      "image/png": "[encoded data removed]",
      "text/latex": [
       "$\\displaystyle - \\frac{x^{2}}{2} + x$"
      ],
      "text/plain": [
       "   2    \n",
       "  x     \n",
       "- ── + x\n",
       "  2     "
      ]
     },
     "execution_count": 4,
     "metadata": {},
     "output_type": "execute_result"
    }
   ],
   "source": [
    "expr1"
   ]
  },
  {
   "cell_type": "code",
   "execution_count": 5,
   "metadata": {},
   "outputs": [
    {
     "data": {
      "image/png": "[encoded data removed]",
      "text/latex": [
       "$\\displaystyle \\log{\\left(x + 1 \\right)}$"
      ],
      "text/plain": [
       "log(x + 1)"
      ]
     },
     "execution_count": 5,
     "metadata": {},
     "output_type": "execute_result"
    }
   ],
   "source": [
    "expr2"
   ]
  },
  {
   "cell_type": "code",
   "execution_count": 6,
   "metadata": {},
   "outputs": [
    {
     "data": {
      "image/png": "[encoded data removed]",
      "text/latex": [
       "$\\displaystyle \\frac{x}{\\sqrt{x + 1}}$"
      ],
      "text/plain": [
       "    x    \n",
       "─────────\n",
       "  _______\n",
       "╲╱ x + 1 "
      ]
     },
     "execution_count": 6,
     "metadata": {},
     "output_type": "execute_result"
    }
   ],
   "source": [
    "expr3"
   ]
  },
  {
   "cell_type": "markdown",
   "metadata": {},
   "source": [
    "念のため、出力して確認。"
   ]
  },
  {
   "cell_type": "code",
   "execution_count": 7,
   "metadata": {},
   "outputs": [
    {
     "data": {
      "image/png": "[encoded data removed]",
      "text/latex": [
       "$\\displaystyle \\frac{x^{2}}{2} - x + \\log{\\left(x + 1 \\right)}$"
      ],
      "text/plain": [
       " 2                 \n",
       "x                  \n",
       "── - x + log(x + 1)\n",
       "2                  "
      ]
     },
     "execution_count": 7,
     "metadata": {},
     "output_type": "execute_result"
    }
   ],
   "source": [
    "expr4 = expr2 - expr1\n",
    "expr4 "
   ]
  },
  {
   "cell_type": "code",
   "execution_count": 8,
   "metadata": {},
   "outputs": [
    {
     "data": {
      "image/png": "[encoded data removed]",
      "text/latex": [
       "$\\displaystyle \\frac{x}{\\sqrt{x + 1}} - \\log{\\left(x + 1 \\right)}$"
      ],
      "text/plain": [
       "    x                 \n",
       "───────── - log(x + 1)\n",
       "  _______             \n",
       "╲╱ x + 1              "
      ]
     },
     "execution_count": 8,
     "metadata": {},
     "output_type": "execute_result"
    }
   ],
   "source": [
    "expr5 = expr3 - expr2\n",
    "expr5"
   ]
  },
  {
   "cell_type": "markdown",
   "metadata": {},
   "source": [
    "にて、(真ん中)ー(左)、(右)ー(真ん中)の関数を新たに設定。\n",
    "\n",
    "以下ではグラフを描画する。なお、`from sympy.plotting import plot`が正常に描画をしなかったので、`numpy`と`matplotlib`を用いました。"
   ]
  },
  {
   "cell_type": "code",
   "execution_count": 9,
   "metadata": {},
   "outputs": [
    {
     "data": {
      "image/png": "[encoded data removed]",
      "text/plain": [
       "<Figure size 432x288 with 1 Axes>"
      ]
     },
     "metadata": {
      "needs_background": "light"
     },
     "output_type": "display_data"
    }
   ],
   "source": [
    "func_expr4 = sy.lambdify(x, expr4, \"numpy\") # numpyの関数に変換\n",
    "x_expr4 = np.arange(-0.99, 5, 1e-2)\n",
    "y_expr4 = func_expr4(x_expr4)\n",
    "\n",
    "plt.plot(x_expr4, y_expr4)\n",
    "plt.axvline(x=0, color=\"gray\", linestyle=\"dashed\", linewidth=2)\n",
    "plt.axhline(y=0, color=\"gray\", linestyle=\"dashed\", linewidth=2)\n",
    "plt.xlabel(r\"$x$\")\n",
    "plt.ylabel(r\"$f(x)$\")\n",
    "plt.show()"
   ]
  },
  {
   "cell_type": "markdown",
   "metadata": {},
   "source": [
    "上のグラフから、$x>0$ のとき、`expr4`$>0$ すなわち、(真ん中)$-$(左)$>0$ が示せる。"
   ]
  },
  {
   "cell_type": "code",
   "execution_count": 10,
   "metadata": {},
   "outputs": [
    {
     "data": {
      "image/png": "[encoded data removed]",
      "text/plain": [
       "<Figure size 432x288 with 1 Axes>"
      ]
     },
     "metadata": {
      "needs_background": "light"
     },
     "output_type": "display_data"
    }
   ],
   "source": [
    "func_expr5 = sy.lambdify(x, expr5, \"numpy\") # numpyの関数に変換\n",
    "x_expr5 = np.arange(-0.99, 10, 1e-2)\n",
    "y_expr5 = func_expr5(x_expr5)\n",
    "\n",
    "plt.plot(x_expr5, y_expr5)\n",
    "plt.axvline(x=0, color=\"gray\", linestyle=\"dashed\", linewidth=2)\n",
    "plt.axhline(y=0, color=\"gray\", linestyle=\"dashed\", linewidth=2)\n",
    "plt.xlabel(r\"$x$\")\n",
    "plt.ylabel(r\"$f(x)$\")\n",
    "plt.show()"
   ]
  },
  {
   "cell_type": "markdown",
   "metadata": {},
   "source": [
    "上のグラフから、$x>0$ のとき、`expr5`$>0$ すなわち、(右)$-$(真ん中)$>0$ が示せる。よって、(1) の上式は示される。"
   ]
  },
  {
   "cell_type": "markdown",
   "metadata": {},
   "source": [
    "### (2)\n",
    "#### ＜方針＞\n",
    "これも普通に解くなら、(1)の誘導を利用して、はさみうちやら微分やらで解けますが、今回は最大値・最小値・極限＋グラフで求めます。"
   ]
  },
  {
   "cell_type": "code",
   "execution_count": 11,
   "metadata": {},
   "outputs": [],
   "source": [
    "expr6 = 1/sy.log(1+x) \n",
    "expr7 = 1/x"
   ]
  },
  {
   "cell_type": "code",
   "execution_count": 12,
   "metadata": {},
   "outputs": [
    {
     "data": {
      "image/png": "[encoded data removed]",
      "text/latex": [
       "$\\displaystyle \\frac{1}{\\log{\\left(x + 1 \\right)}} - \\frac{1}{x}$"
      ],
      "text/plain": [
       "    1        1\n",
       "────────── - ─\n",
       "log(x + 1)   x"
      ]
     },
     "execution_count": 12,
     "metadata": {},
     "output_type": "execute_result"
    }
   ],
   "source": [
    "expr8 = expr6 - expr7\n",
    "expr8"
   ]
  },
  {
   "cell_type": "code",
   "execution_count": 13,
   "metadata": {},
   "outputs": [
    {
     "data": {
      "image/png": "[encoded data removed]",
      "text/plain": [
       "<Figure size 432x288 with 1 Axes>"
      ]
     },
     "metadata": {
      "needs_background": "light"
     },
     "output_type": "display_data"
    }
   ],
   "source": [
    "func_expr8 = sy.lambdify(x, expr8, \"numpy\") # numpyの関数に変換\n",
    "x_expr8 = np.arange(-0.99, 1e4, 1e-2)\n",
    "y_expr8 = func_expr8(x_expr8)\n",
    "\n",
    "plt.plot(x_expr8, y_expr8)\n",
    "plt.xlim(-1, 1)\n",
    "plt.axvline(x=0, color=\"gray\", linestyle=\"dashed\", linewidth=2)\n",
    "plt.axhline(y=0, color=\"gray\", linestyle=\"dashed\", linewidth=2)\n",
    "plt.xlabel(r\"$x$\")\n",
    "plt.ylabel(r\"$f(x)$\")\n",
    "plt.show()"
   ]
  },
  {
   "cell_type": "markdown",
   "metadata": {},
   "source": [
    "$-1<x<1$の狭い範囲では上図のようになり、"
   ]
  },
  {
   "cell_type": "code",
   "execution_count": 14,
   "metadata": {},
   "outputs": [
    {
     "data": {
      "image/png": "[encoded data removed]",
      "text/plain": [
       "<Figure size 432x288 with 1 Axes>"
      ]
     },
     "metadata": {
      "needs_background": "light"
     },
     "output_type": "display_data"
    }
   ],
   "source": [
    "plt.plot(x_expr8, y_expr8)\n",
    "plt.xlim(-1, 1e4)\n",
    "plt.axvline(x=0, color=\"gray\", linestyle=\"dashed\", linewidth=2)\n",
    "plt.axhline(y=0, color=\"gray\", linestyle=\"dashed\", linewidth=2)\n",
    "plt.xlabel(r\"$x$\")\n",
    "plt.ylabel(r\"$f(x)$\")\n",
    "plt.show()"
   ]
  },
  {
   "cell_type": "markdown",
   "metadata": {},
   "source": [
    "$1-<x<10^4$という広い範囲では、`expr8` は$x \\to \\infty$ のとき、`expr8`$\\to 0$に収束すると予想できます。\n",
    "0に収束することを以下で示していきます。\n",
    "\n",
    "まず、最大値を求めます。"
   ]
  },
  {
   "cell_type": "code",
   "execution_count": 15,
   "metadata": {},
   "outputs": [],
   "source": [
    "from scipy.optimize import differential_evolution"
   ]
  },
  {
   "cell_type": "markdown",
   "metadata": {},
   "source": [
    "これは、関数の最小値を求めることができるアルゴリズムです。\n",
    "なお、これはscipyで定義域を指定した大域最小化が行える唯一の方法だそうです。"
   ]
  },
  {
   "cell_type": "code",
   "execution_count": 16,
   "metadata": {},
   "outputs": [],
   "source": [
    "numeric_expr8 = sy.lambdify(x , expr8)"
   ]
  },
  {
   "cell_type": "markdown",
   "metadata": {},
   "source": [
    "`lambda`を使って `expr8` を、$x$ を変数（引数）とする無名関数に変換します。"
   ]
  },
  {
   "cell_type": "code",
   "execution_count": 17,
   "metadata": {},
   "outputs": [],
   "source": [
    "minus_numeric_expr8 = lambda x: -numeric_expr8(x)"
   ]
  },
  {
   "cell_type": "markdown",
   "metadata": {},
   "source": [
    "ここで`scipy.optimize`で求められるのは最小値、ということなので `expr8` の符号を反転させ、\n",
    "最小値を求め、のちに最小値の符号を反転させ最大値とする、という方法で求めます。"
   ]
  },
  {
   "cell_type": "code",
   "execution_count": 18,
   "metadata": {},
   "outputs": [
    {
     "data": {
      "text/plain": [
       "     fun: -0.4999962766596582\n",
       " message: 'Optimization terminated successfully.'\n",
       "    nfev: 477\n",
       "     nit: 28\n",
       " success: True\n",
       "       x: array([4.46811027e-05])"
      ]
     },
     "execution_count": 18,
     "metadata": {},
     "output_type": "execute_result"
    }
   ],
   "source": [
    "differential_evolution(minus_numeric_expr8, [(0, 1e5)])"
   ]
  },
  {
   "cell_type": "markdown",
   "metadata": {},
   "source": [
    "という結果になります。\n",
    "\n",
    "ここで、`fun`以下が求めたい最小値なので、`expr8` の最大値は$0.49980\\cdots \\approx 0.5=\\frac{1}{2}$\n",
    "となります。\n",
    "\n",
    "次に、`expr8` の最小値として極限を求めます。\n",
    "無限大まで飛ばします。"
   ]
  },
  {
   "cell_type": "code",
   "execution_count": 19,
   "metadata": {},
   "outputs": [],
   "source": [
    "f1 = sy.limit(expr8/x, x, sy.oo)"
   ]
  },
  {
   "cell_type": "markdown",
   "metadata": {},
   "source": [
    "極限式を`f1`と置きます。\n",
    "極限は`sy.limit()`で求められます。"
   ]
  },
  {
   "cell_type": "code",
   "execution_count": 20,
   "metadata": {},
   "outputs": [
    {
     "name": "stdout",
     "output_type": "stream",
     "text": [
      "0\n"
     ]
    }
   ],
   "source": [
    "print(f1)"
   ]
  },
  {
   "cell_type": "markdown",
   "metadata": {},
   "source": [
    "すると、無限大への極限は0となることがわかります。\n",
    "\n",
    "以上より、$x>0$では$0<y<\\frac{1}{2}$の範囲を取りうるとわかります。"
   ]
  },
  {
   "cell_type": "markdown",
   "metadata": {},
   "source": [
    "### 答え\n",
    "(1)上記のグラフより  \n",
    "(2) $0<y<\\frac{1}{2}$"
   ]
  },
  {
   "cell_type": "markdown",
   "metadata": {},
   "source": [
    "## 感想\n",
    "- 今回は時間の都合で大問１しか解けませんでしたが、今後他のものにも挑戦したいと思います。（第4問の空間図形とか3次元で難しそうですが…）\n",
    "- 僕はPythonの文法の勉強がまだ終わっていない状態での今回の記事でしたが、実際に簡単目なコマンドを実行してみる、というのはとても良い練習になり、今後の勉強の理解の助けになると思いました。Jupyterに慣れることができたのも良かったです。\n",
    "- （入試問題を見ていると、急に去年の受験時代が思い出され、良くも悪くも感傷に浸ってしまいます。去年のやる気に負けないようにしたい…！）\n",
    "- これからも頑張って勉強していきます！"
   ]
  }
 ],
 "metadata": {
  "kernelspec": {
   "display_name": "Python 3",
   "language": "python",
   "name": "python3"
  },
  "language_info": {
   "codemirror_mode": {
    "name": "ipython",
    "version": 3
   },
   "file_extension": ".py",
   "mimetype": "text/x-python",
   "name": "python",
   "nbconvert_exporter": "python",
   "pygments_lexer": "ipython3",
   "version": "3.7.6"
  }
 },
 "nbformat": 4,
 "nbformat_minor": 4
}
