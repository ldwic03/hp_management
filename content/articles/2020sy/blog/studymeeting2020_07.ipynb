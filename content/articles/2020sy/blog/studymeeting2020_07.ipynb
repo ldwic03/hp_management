{
  "nbformat": 4,
  "nbformat_minor": 0,
  "metadata": {
    "kernelspec": {
      "name": "python3",
      "display_name": "Python 3"
    },
    "colab": {
      "name": "studymeeting2020_07.ipynb",
      "provenance": [],
      "private_outputs": true,
      "collapsed_sections": [
        "KfTdbmbgpROb"
      ]
    },
    "accelerator": "GPU"
  },
  "cells": [
    {
      "cell_type": "markdown",
      "metadata": {
        "id": "HQSVXW6npROE",
        "colab_type": "text"
      },
      "source": [
        "# 機械学習実践編 : Kerasで作る深層学習画像分類器\n",
        "\n",
        "Python会勉強会第7回 (2020.07.01 小川)"
      ]
    },
    {
      "cell_type": "markdown",
      "metadata": {
        "id": "sjv8V-EypROG",
        "colab_type": "text"
      },
      "source": [
        "今回は機械学習の実践編として、**深層学習を使った画像分類器を実際に作って動かして**みます。\n",
        "\n",
        "深層学習は「ゼロから作る」のもとても勉強になってよいのですが、実用的に使う場合には通常は何らかのライブラリを使います。GPUを動かすための処理なども全て組み込まれていて、慣れればとても楽ちんです。\n",
        "\n",
        "今回はその中から「[Keras](https://github.com/keras-team/keras)」というライブラリ (フレームワークともいう) を選びました。記述量が少なく、初めて使ってみるのには特に適していると思います。  \n",
        "\n",
        "(TensorFlowを呼び出すところまでは全てPythonで書かれているので、中身を読んで理解できるのも良いところです。\n",
        "本格的に使っていると読む機会は実際あります。)\n",
        "\n",
        "この他には「[PyTorch](https://pytorch.org)」も一大勢力です。 (今回、どっちにするか迷いました。)  \n",
        "PyTorchをやってみたい人にも配慮？して、今回やることは概ね、[こちら](https://pytorch.org/tutorials/beginner/blitz/cifar10_tutorial.html#sphx-glr-beginner-blitz-cifar10-tutorial-py)のPyTorchの公式チュートリアル (の一部) をKeras訳したようなものにしています。  \n",
        "(そこ、めんどかっただけやろとか言わない。)\n",
        "\n",
        "後からそちらをやって、似ているところや違いを感じてみるのも面白いと思います。\n",
        "\n",
        "では、はじめましょう。"
      ]
    },
    {
      "cell_type": "markdown",
      "metadata": {
        "id": "HWk4vdkO6JAC",
        "colab_type": "text"
      },
      "source": [
        "## 準備 (インストール)\n",
        "自分で使う場合は、前準備としてKeras本体などのインストールが必要です。"
      ]
    },
    {
      "cell_type": "markdown",
      "metadata": {
        "id": "9q-MwDgopROH",
        "colab_type": "text"
      },
      "source": [
        "例えば\n",
        "```\n",
        "$ pip install keras\n",
        "```\n",
        "などのようにしてインストールします (pip, conda などは環境に応じて)。\n",
        "\n",
        "**Google Colabでは何もしなくてOK**です。"
      ]
    },
    {
      "cell_type": "markdown",
      "metadata": {
        "id": "RWG1sftJ6NjF",
        "colab_type": "text"
      },
      "source": [
        "## TensoflowとKerasの初期化\n",
        "おまじないです。とりあえずコピペで問題ありません。"
      ]
    },
    {
      "cell_type": "markdown",
      "metadata": {
        "id": "zI6XAQNzpROI",
        "colab_type": "text"
      },
      "source": [
        "(Kerasはそのさらに裏でTensorFlowというライブラリが動いているので、順番に読み込んで初期化します。)\n",
        "\n",
        "実行すると、GPUがいくつ使えるか、が表示されます。  \n",
        "Google Colabで実行した場合、`1` と出ると思います。\n",
        "(多くのラップトップPCなどでは `0` です。)"
      ]
    },
    {
      "cell_type": "code",
      "metadata": {
        "id": "O6WrDCexpROK",
        "colab_type": "code",
        "colab": {}
      },
      "source": [
        "# TensorFlow (=backend)\n",
        "import tensorflow as tf\n",
        "gpus = tf.config.experimental.list_physical_devices('GPU') # ver2.1の場合。experimentalなので書き方は将来verで変更されそう\n",
        "print(\"Num GPUs Available: \", len(gpus))\n",
        "for device in gpus: tf.config.experimental.set_memory_growth(device, True) # 無駄なVRAM確保をしないよう設定\n",
        "\n",
        "# Keras\n",
        "import keras\n",
        "import keras.backend as K  # なぜ K... 慣例です。今回は最後まで使いませんが。"
      ],
      "execution_count": null,
      "outputs": []
    },
    {
      "cell_type": "markdown",
      "metadata": {
        "id": "qsFzdQ4QqSXT",
        "colab_type": "text"
      },
      "source": [
        "ついでに他のパッケージのインポートもしておきます。"
      ]
    },
    {
      "cell_type": "code",
      "metadata": {
        "id": "4Wz2aYmGqLC7",
        "colab_type": "code",
        "colab": {}
      },
      "source": [
        "import numpy as np  # NumPy はいつでもどこでもほぼ必須\n",
        "import matplotlib.pyplot as plt  # 画像表示に MatplotLib を使います"
      ],
      "execution_count": null,
      "outputs": []
    },
    {
      "cell_type": "markdown",
      "metadata": {
        "id": "t9wlfOtp4Rzg",
        "colab_type": "text"
      },
      "source": [
        "## 学習データの準備\n",
        "まずはデータが必要です。"
      ]
    },
    {
      "cell_type": "markdown",
      "metadata": {
        "id": "4BqHSBwd4ZpB",
        "colab_type": "text"
      },
      "source": [
        "今回やってみるのは、**深層学習を用いた自動画像分類器の作成**です。\n",
        "\n",
        "そのためには、\n",
        "(下でもう少し説明しますが)\n",
        "まず「**どういう分類器が欲しいか**」を決め、それに応じて、**「画像とその答え」を大量に用意する**必要があります。\n",
        "\n",
        "例えば組織染色画像を用意して、何の組織か分類するとか、病気の進行具合 (グレード、スコア) を判定するなどが考えられます。\n",
        "実際に高度な自動判別器が作れる場合もあり、多くの研究やコンペティションなどがあります。"
      ]
    },
    {
      "cell_type": "markdown",
      "metadata": {
        "id": "eqnyvBzv4dYH",
        "colab_type": "text"
      },
      "source": [
        "### CIFAR-10 データセット\n",
        "今回は練習なので、もっと簡単なものを使います。"
      ]
    },
    {
      "cell_type": "markdown",
      "metadata": {
        "id": "YqF_DT8e4ha_",
        "colab_type": "text"
      },
      "source": [
        "CIFAR-10と呼ばれる実験用の定番データセットのひとつで、32x32のカラー画像が全部で6万枚程度あります。\n",
        "(学習用5万、テスト用1万)\n",
        "\n",
        "各々の画像は、「飛行機」「自動車」「鳥」「猫」「鹿」「犬」「蛙」「馬」「船」「トラック」。\n",
        "\n",
        "自動車とトラックって何だよというツッコミはさておき、この順に0-9のラベルがついています。"
      ]
    },
    {
      "cell_type": "code",
      "metadata": {
        "id": "DcefGQ6fGmHx",
        "colab_type": "code",
        "colab": {}
      },
      "source": [
        "classes = ('plane', 'car', 'bird', 'cat', 'deer', 'dog', 'frog', 'horse', 'ship', 'truck')"
      ],
      "execution_count": null,
      "outputs": []
    },
    {
      "cell_type": "markdown",
      "metadata": {
        "id": "bVkZYN6v4nK1",
        "colab_type": "text"
      },
      "source": [
        "#### Kerasでの自動読み込み\n",
        "Kerasには、CIFARなどの実験用データを自動的にダウンロードして読み込んでくれる機能があります。"
      ]
    },
    {
      "cell_type": "markdown",
      "metadata": {
        "id": "6Und9DBBpROb",
        "colab_type": "text"
      },
      "source": [
        "(他にもPyTorchなど、この種のフレームワークは実験を容易にするために大抵そういう機能があります。)\n",
        "\n",
        "実際に何か研究をするときのデータなどはそうはいかず、データを揃えて用意するところが学習よりよっぽど大変なのがむしろ普通なくらいですが、ここではその部分はさぼります。"
      ]
    },
    {
      "cell_type": "markdown",
      "metadata": {
        "id": "s5BhHseSz9Zd",
        "colab_type": "text"
      },
      "source": [
        "まずはKerasの機能でデータの読み込み。訓練用 (5万枚) とテスト用 (1万枚) にあらかじめ分かれています。"
      ]
    },
    {
      "cell_type": "code",
      "metadata": {
        "id": "ZEocKrtdpROc",
        "colab_type": "code",
        "colab": {}
      },
      "source": [
        "from keras.datasets import cifar10\n",
        "(x_train_all, y_train_all), (x_test, y_test) = cifar10.load_data()"
      ],
      "execution_count": null,
      "outputs": []
    },
    {
      "cell_type": "markdown",
      "metadata": {
        "id": "3wovachLHeFa",
        "colab_type": "text"
      },
      "source": [
        "画像の表示ができるように準備しておきます。"
      ]
    },
    {
      "cell_type": "code",
      "metadata": {
        "id": "QVl-wXUupROg",
        "colab_type": "code",
        "colab": {}
      },
      "source": [
        "# function to show image/images\n",
        "def imshow(img):\n",
        "    plt.imshow(img)\n",
        "    plt.show()\n",
        "\n",
        "def joinimg(imgs):\n",
        "    return np.concatenate(imgs, axis=1)"
      ],
      "execution_count": null,
      "outputs": []
    },
    {
      "cell_type": "markdown",
      "metadata": {
        "id": "gdObasmt409e",
        "colab_type": "text"
      },
      "source": [
        "#### データ分割・整形\n",
        "\n",
        "学習と評価のため、データは適切な分割が必要です。"
      ]
    },
    {
      "cell_type": "markdown",
      "metadata": {
        "id": "YHpIbMtr0DUF",
        "colab_type": "text"
      },
      "source": [
        "今回使うCIFAR-10では、テスト用データをあらかじめ別にしてくれています。\n",
        "\n",
        "しかしそれだけだと実は不十分で、ここでは訓練用データをさらに9:1にランダム分割し、小さい方を検証 (validation) 用データとします。  \n",
        "(意味は後ほど。)"
      ]
    },
    {
      "cell_type": "code",
      "metadata": {
        "id": "vKTz-sdc0Ek3",
        "colab_type": "code",
        "colab": {}
      },
      "source": [
        "N = len(y_train_all)\n",
        "np.random.seed(0)\n",
        "order = np.random.permutation(N)\n",
        "Nv = N // 10\n",
        "Nt = N - Nv\n",
        "x_train, y_train = x_train_all[order[:Nt]], y_train_all[order[:Nt]].reshape(-1)\n",
        "x_valid, y_valid = x_train_all[order[Nt:]], y_train_all[order[Nt:]].reshape(-1)\n",
        "y_test = y_test.reshape(-1) # 列ベクトル → 行ベクトルに整形"
      ],
      "execution_count": null,
      "outputs": []
    },
    {
      "cell_type": "markdown",
      "metadata": {
        "id": "FZFBt_Q-FaM5",
        "colab_type": "text"
      },
      "source": [
        "`x_train` などは大きな配列です。"
      ]
    },
    {
      "cell_type": "code",
      "metadata": {
        "id": "qejn9ycHFrHE",
        "colab_type": "code",
        "colab": {}
      },
      "source": [
        "print(x_train.shape, x_valid.shape, x_test.shape)\n",
        "print(y_train.shape, y_valid.shape, y_test.shape)"
      ],
      "execution_count": null,
      "outputs": []
    },
    {
      "cell_type": "markdown",
      "metadata": {
        "id": "SfNA3BO-Kvfz",
        "colab_type": "text"
      },
      "source": [
        "テストデータの最初の5枚と、それぞれのラベルを表示して確認します。"
      ]
    },
    {
      "cell_type": "code",
      "metadata": {
        "id": "9XUm-tOzH0RS",
        "colab_type": "code",
        "colab": {}
      },
      "source": [
        "imshow(joinimg([x_test[i] for i in range(5)]))\n",
        "print(y_test[:5])\n",
        "print([classes[y_test[i]] for i in range(5)])"
      ],
      "execution_count": null,
      "outputs": []
    },
    {
      "cell_type": "markdown",
      "metadata": {
        "id": "1fuQHAwM0hhd",
        "colab_type": "text"
      },
      "source": [
        "これで**実験用データの用意は完了**です。"
      ]
    },
    {
      "cell_type": "markdown",
      "metadata": {
        "id": "6owglNz55EVg",
        "colab_type": "text"
      },
      "source": [
        "## 深層ネットワークの作成"
      ]
    },
    {
      "cell_type": "markdown",
      "metadata": {
        "id": "BOt3oC8y50Mp",
        "colab_type": "text"
      },
      "source": [
        "### 画像分類ネットワーク : Kerasによるモデル定義\n",
        "\n",
        "データが用意できたので、それを学習・分類する深層ネットワークの構造を作ります。"
      ]
    },
    {
      "cell_type": "markdown",
      "metadata": {
        "id": "-KlgCZgxpROR",
        "colab_type": "text"
      },
      "source": [
        "CIFAR10の各画像は 32x32 サイズのカラー画像 (RGB) です。\n",
        "\n",
        "これらを入力にして、畳み込み (`Conv2D()`)、プーリング (`MaxPooling2D`)、全結合 (`Dense()`)、を順に繰り返しながら出力（分類）を作っていきます。  \n",
        "(上記 **[PyTorch Tutorial](https://pytorch.org/tutorials/beginner/blitz/cifar10_tutorial.html#sphx-glr-beginner-blitz-cifar10-tutorial-py) と完全に同一**にしてあります。)\n",
        "\n",
        "Kerasにモデルの定義方法は複数あるのですが、一番簡単な方法(`Sequential()`)を使います。"
      ]
    },
    {
      "cell_type": "code",
      "metadata": {
        "id": "Dlaw_nucpROS",
        "colab_type": "code",
        "colab": {}
      },
      "source": [
        "from keras.models import Sequential\n",
        "from keras.layers import Input, Dense, Conv2D, MaxPooling2D, Activation, Flatten\n",
        "\n",
        "net = Sequential([\n",
        "    # 畳み込み1回目 : 「畳み込み + 活性化(Relu) + プーリング」 の3層で1セット\n",
        "    Conv2D(filters=6, kernel_size=(5, 5), input_shape=(32,32,3)), # 32x32のRGB画像を入力。大きさ5x5、厚み3の畳み込みフィルタが6枚\n",
        "    Activation('relu'),\n",
        "    MaxPooling2D(pool_size=(2, 2)),\n",
        "\n",
        "    # 畳み込み2回目 : 構造は1回目と同じ\n",
        "    Conv2D(filters=16, kernel_size=(5, 5)), # 大きさ5x5、厚み6の畳み込みフィルタが16枚\n",
        "    Activation('relu'),\n",
        "    MaxPooling2D(pool_size=(2, 2)),\n",
        "    \n",
        "    # 5x5の16チャネル画像だが、構造を壊して 5x5x16=400 成分、1列に平たく並べる。\n",
        "    Flatten(),\n",
        "\n",
        "    # 全結合を3回繰り返す。「全結合 + 活性化」で1セット\n",
        "    Dense(units=120),\n",
        "    Activation('relu'),\n",
        "\n",
        "    Dense(units=84),\n",
        "    Activation('relu'),\n",
        "\n",
        "    Dense(units=10),\n",
        "    Activation('softmax') # 最後だけSoftMax\n",
        "])"
      ],
      "execution_count": null,
      "outputs": []
    },
    {
      "cell_type": "markdown",
      "metadata": {
        "id": "LEIVaqbapROV",
        "colab_type": "text"
      },
      "source": [
        "これだけ！  \n",
        "(実際にはもっと短くも書けますが、意味がわかるように、あえてやや冗長に書きました。)\n",
        "\n",
        "やや長いですが、中身は深層学習の「層 (layer)」をただ上から順番に並べているだけです。\n",
        "\n",
        "これだけで、\n",
        "- CIFAR-10に集められている32x32サイズのカラー画像 (RGB) を入力にして\n",
        "- その画像が10通りの分類それぞれに属する**確率** (0-1の実数10個、足すと1) を出力する\n",
        "\n",
        "「深層ネットワーク」`net` が完成です。"
      ]
    },
    {
      "cell_type": "markdown",
      "metadata": {
        "id": "AQt-vELdgOHv",
        "colab_type": "text"
      },
      "source": [
        "(ネットワークとモデルという言葉は区別が難しいですが、モデルの方がネットワークの上に定義されたより詳細な構造をも含む概念、とでも思っておきましょう。\n",
        "ひとまずそんなに気にしなくていいです。)"
      ]
    },
    {
      "cell_type": "markdown",
      "metadata": {
        "id": "umUYwbn65XIK",
        "colab_type": "text"
      },
      "source": [
        "### ネットワーク構造とパラメータ\n",
        "\n",
        "できあがった `net` の構造は `net.summary()` で表示できます。"
      ]
    },
    {
      "cell_type": "code",
      "metadata": {
        "id": "g4xkpcvApROW",
        "colab_type": "code",
        "colab": {}
      },
      "source": [
        "net.summary()"
      ],
      "execution_count": null,
      "outputs": []
    },
    {
      "cell_type": "markdown",
      "metadata": {
        "id": "qqaCeJAxpROa",
        "colab_type": "text"
      },
      "source": [
        "元の画像から、性質の異なる**13層**の処理を順番に通して、最後に10成分の出力に到達します。  \n",
        "こうやって層を何重にも重ねるから「**深層学習** (Deep Learning)」と呼ぶわけです。  \n",
        "極端なものでは**数百層以上**という場合すらあります。\n",
        "\n",
        "今回は13層のうち、**パラメータを含む層が5層** (畳み込みと全結合層) あります。  \n",
        "合計で**約6万**のパラメータが含まれています。"
      ]
    },
    {
      "cell_type": "markdown",
      "metadata": {
        "id": "fGJ6oKgH9mAb",
        "colab_type": "text"
      },
      "source": [
        "## ネットワークモデルの学習と利用\n",
        "\n",
        "ここから後半です。\n",
        "前半で作ったモデルのパラメータを学習していきます。"
      ]
    },
    {
      "cell_type": "markdown",
      "metadata": {
        "id": "HxkCDDwi466g",
        "colab_type": "text"
      },
      "source": [
        "### パラメータと学習\n",
        "\n",
        "ですがその前に、**そもそも学習とは**？？"
      ]
    },
    {
      "cell_type": "markdown",
      "metadata": {
        "id": "KfTdbmbgpROb",
        "colab_type": "text"
      },
      "source": [
        "ネットワーク `net`は、32x32のカラー画像から10分類の確率 (より正しくは、足すと1になる非負実数の組) を出力する、ということがわかっています。\n",
        "しかし、**どういう分類を与えるか**、はこれを見ても全くわかりません。\n",
        "\n",
        "もっと卑近な例だと例えば、実数から実数への写像 (関数) と言われても、直線かもしれないし二次関数かもしれないし指数関数かもしれないし、もっとでたらめな関数かもしれない。\n",
        "それと同じです。\n",
        "\n",
        "その具体的な関数の形を決めるのが、上の**6万個のパラメータ**です。\n",
        "作りたい関数に応じて、この値を変えてやればいい。\n",
        "\n",
        "まあそんなこと言われてもどう変えたらいいか、わからないわけですが、そこで登場するのが**「学習」**です。  \n",
        "望ましい出力（答え）がわかっている入力画像を大量に用意し、それぞれの答えになるべく近づくように、6万個の値を少しずつ動かす、という**気の遠くなる地道な操作**を繰り返す。\n",
        "この操作のことを、比喩的に「学習 (learn)」あるいは「訓練 (train)」と呼んでいます。  \n",
        "(心配しなくても、これはKerasとGPUがやってくれます。)\n",
        "\n",
        "するとあら不思議、欲しかった性質を持つ関数（分類器）がひとりでにできあがる、という仕組みです。"
      ]
    },
    {
      "cell_type": "markdown",
      "metadata": {
        "id": "hb9YrYBD9wwy",
        "colab_type": "text"
      },
      "source": [
        "### 方法、尺度の設定\n",
        "\n",
        "Kerasで学習を行わせる時は、「どういう方法で」「どういう尺度を使って」行うか、をまず設定します。"
      ]
    },
    {
      "cell_type": "code",
      "metadata": {
        "id": "Yir7aio3pROk",
        "colab_type": "code",
        "colab": {}
      },
      "source": [
        "net.compile(optimizer='adam', metrics=['accuracy'], loss='categorical_crossentropy')"
      ],
      "execution_count": null,
      "outputs": []
    },
    {
      "cell_type": "markdown",
      "metadata": {
        "id": "BceAxVE21Q2A",
        "colab_type": "text"
      },
      "source": [
        "細かいことは気にしなくてよいです。**今やりたいのが分類問題である**ことをモデルに教えました。"
      ]
    },
    {
      "cell_type": "markdown",
      "metadata": {
        "id": "7n-5t-uj9396",
        "colab_type": "text"
      },
      "source": [
        "### 学習の実行\n",
        "\n",
        "いよいよ本当の学習！！！！"
      ]
    },
    {
      "cell_type": "markdown",
      "metadata": {
        "id": "6HuXDkFa1pLG",
        "colab_type": "text"
      },
      "source": [
        "以下を実行すると学習が始まり、4万5000枚の訓練用画像データを1周するたびに中間成績が表示されていきます。"
      ]
    },
    {
      "cell_type": "code",
      "metadata": {
        "id": "bamDl7xVpROo",
        "colab_type": "code",
        "colab": {}
      },
      "source": [
        "history = net.fit(\n",
        "    x_train, np.eye(10)[y_train], # 学習するデータを指定 (「過去問」)\n",
        "    batch_size=64,\n",
        "    validation_data=(x_valid, np.eye(10)[y_valid]), # 中間評価を行うための検証用データを指定 (「模試」)\n",
        "    initial_epoch=0,\n",
        "    epochs=30, # 同じ訓練データを何周 (= 「エポック」) 回して学習するか設定\n",
        "    shuffle=True,\n",
        "    verbose=2, # エポック毎に成績を出力\n",
        ").history"
      ],
      "execution_count": null,
      "outputs": []
    },
    {
      "cell_type": "markdown",
      "metadata": {
        "id": "I7xl_l6J2kE6",
        "colab_type": "text"
      },
      "source": [
        "左が訓練データ自体に対する成績、右が検証用データでの成績。\n",
        "\n",
        "`loss` は小さい方が、 `accuracy` は大きい方が好成績です。\n",
        "**やってみて何か気付くこと**はありませんか？？"
      ]
    },
    {
      "cell_type": "markdown",
      "metadata": {
        "id": "7zvbELfoxxkF",
        "colab_type": "text"
      },
      "source": [
        "#### 学習済パラメータの保存\n",
        "\n",
        "大事な学習済パラメータはまとめてちゃんと保存しておきます。"
      ]
    },
    {
      "cell_type": "markdown",
      "metadata": {
        "id": "zleK3JEIx1vN",
        "colab_type": "text"
      },
      "source": [
        "今回はとりあえず必要ありませんが、実際に使う場合は大規模ネットワークを何時間もかけて学習したりするのと、学習過程にはランダム性が入っていて完全な再現は難しいからです。"
      ]
    },
    {
      "cell_type": "code",
      "metadata": {
        "id": "jlm9brrwyG8Y",
        "colab_type": "code",
        "colab": {}
      },
      "source": [
        "# net.save_weights('net_param.hdf5')\n",
        "# 上をコメントアウトして実行すると保存される"
      ],
      "execution_count": null,
      "outputs": []
    },
    {
      "cell_type": "markdown",
      "metadata": {
        "id": "8kILjC7cPNyD",
        "colab_type": "text"
      },
      "source": [
        "### 学習後性能の評価\n",
        "\n",
        "学習が終わったら、実際に期待したような関数が高精度でできているかどうか、テストデータを使って評価します。"
      ]
    },
    {
      "cell_type": "markdown",
      "metadata": {
        "id": "8Szc9pLcUOlz",
        "colab_type": "text"
      },
      "source": [
        "#### 予測分布の取得\n",
        "\n",
        "学習後のモデルで、テストデータに対する予測結果を出力します。"
      ]
    },
    {
      "cell_type": "markdown",
      "metadata": {
        "id": "1Lxh2pk71dM2",
        "colab_type": "text"
      },
      "source": [
        "(模試 (valid) でベンチマークしながら過去問 (train) を何周も解きまくり、最後に本番試験 (test) に臨むイメージです)"
      ]
    },
    {
      "cell_type": "markdown",
      "metadata": {
        "id": "STOMwfIh0wT1",
        "colab_type": "text"
      },
      "source": [
        "ここでは上で30エポック学習したモデルを使います。 (問題 : これは本当に適切でしょうか？) "
      ]
    },
    {
      "cell_type": "code",
      "metadata": {
        "id": "X686mWSgqgKo",
        "colab_type": "code",
        "colab": {}
      },
      "source": [
        "predict_test = net.predict(x_test)"
      ],
      "execution_count": null,
      "outputs": []
    },
    {
      "cell_type": "markdown",
      "metadata": {
        "id": "WrX8Lj1uRFAK",
        "colab_type": "text"
      },
      "source": [
        "結果は10個組の確率分布が1万個並んだ配列です。"
      ]
    },
    {
      "cell_type": "code",
      "metadata": {
        "id": "nn9aRNYvPqSX",
        "colab_type": "code",
        "colab": {}
      },
      "source": [
        "print(predict_test.shape)\n",
        "print(predict_test[:5])"
      ],
      "execution_count": null,
      "outputs": []
    },
    {
      "cell_type": "markdown",
      "metadata": {
        "id": "D9hH7WMTUdJ4",
        "colab_type": "text"
      },
      "source": [
        "#### 結果を目視してみる\n",
        "\n",
        "とりあえず最初のいくつかを手動で確認して、予測性能の雰囲気をつかんでみます。"
      ]
    },
    {
      "cell_type": "markdown",
      "metadata": {
        "id": "2vANirWRR7G5",
        "colab_type": "text"
      },
      "source": [
        "確率を見ると悩んでいる問題 (画像) もあることがわかりますが、マーク式試験だと思って10択の答案にします。"
      ]
    },
    {
      "cell_type": "code",
      "metadata": {
        "id": "i2UkDcZwRpkG",
        "colab_type": "code",
        "colab": {}
      },
      "source": [
        "answersheet = predict_test.argmax(axis=-1)\n",
        "answersheet[:5]"
      ],
      "execution_count": null,
      "outputs": []
    },
    {
      "cell_type": "markdown",
      "metadata": {
        "id": "tF1ZTikSTMfF",
        "colab_type": "text"
      },
      "source": [
        "画像と一緒に見てみましょう。"
      ]
    },
    {
      "cell_type": "code",
      "metadata": {
        "id": "z2YqSNLISaAg",
        "colab_type": "code",
        "colab": {}
      },
      "source": [
        "problems = range(5)\n",
        "imshow(joinimg([x_test[i] for i in problems]))\n",
        "print('Ground Truth :', [classes[y_test[i]] for i in problems])\n",
        "print('Answer Sheet :', [classes[answersheet[i]] for i in problems])"
      ],
      "execution_count": null,
      "outputs": []
    },
    {
      "cell_type": "code",
      "metadata": {
        "id": "zdiF87YUSwCT",
        "colab_type": "code",
        "colab": {}
      },
      "source": [
        "problems = range(5,10)\n",
        "imshow(joinimg([x_test[i] for i in problems]))\n",
        "print('Ground Truth :', [classes[y_test[i]] for i in problems])\n",
        "print('Answer Sheet :', [classes[answersheet[i]] for i in problems])"
      ],
      "execution_count": null,
      "outputs": []
    },
    {
      "cell_type": "markdown",
      "metadata": {
        "id": "YaB6VRk9UjLF",
        "colab_type": "text"
      },
      "source": [
        "#### 最終採点\n",
        "\n",
        "1万問題全てを採点します。"
      ]
    },
    {
      "cell_type": "code",
      "metadata": {
        "id": "h5yTCVhpTTXb",
        "colab_type": "code",
        "colab": {}
      },
      "source": [
        "score = len(np.where(answersheet == y_test)[0])/len(y_test)\n",
        "score"
      ],
      "execution_count": null,
      "outputs": []
    },
    {
      "cell_type": "markdown",
      "metadata": {
        "id": "DeqDwgQmTtFq",
        "colab_type": "text"
      },
      "source": [
        "過去問や模試の成績と比べてみましょう。"
      ]
    },
    {
      "cell_type": "markdown",
      "metadata": {
        "id": "p1cycb4_dUay",
        "colab_type": "text"
      },
      "source": [
        "## まとめ"
      ]
    },
    {
      "cell_type": "markdown",
      "metadata": {
        "id": "nd-M1wUYh9Iv",
        "colab_type": "text"
      },
      "source": [
        "### Kerasでの機械学習の基本的手順のまとめ"
      ]
    },
    {
      "cell_type": "markdown",
      "metadata": {
        "id": "qDSh2xTFdZ5M",
        "colab_type": "text"
      },
      "source": [
        "- Kerasの初期化\n",
        "- 学習データの用意\n",
        "  - CIFAR-10などの実験用データはKerasで簡単に使える\n",
        "  - `(train, valid, test)` に3分割\n",
        "- モデルの定義・初期化\n",
        "- `valid` データでベンチマークしながら反復学習\n",
        "- `test` での最終成績評価"
      ]
    },
    {
      "cell_type": "markdown",
      "metadata": {
        "id": "HPpcLUtui_vC",
        "colab_type": "text"
      },
      "source": [
        "### その他\n",
        "\n"
      ]
    },
    {
      "cell_type": "markdown",
      "metadata": {
        "id": "304MtH4-iCEI",
        "colab_type": "text"
      },
      "source": [
        "- より精密には交差検定 (cross-validation) と組み合わせる方法などもありますが、余程でなければ普通はなかなかやらない気がします。\n",
        "\n",
        "- エポック数は今回固定にしましたが、実際にはvalidの結果を見ながら打ち切ったり、パラメタを順に保存しておいてvalidのスコアから良さそうなものを選ぶ、等するのが普通です。\n",
        "\n",
        "- 今回のモデル自体は率直に言って、大して優れたものではありません。\n",
        "層やノードの数、その他パラメタなどを変えて、スコアがもっと良くならないか、色々やってみるのも面白いです。"
      ]
    },
    {
      "cell_type": "markdown",
      "metadata": {
        "id": "FQtbZKvYj1Yw",
        "colab_type": "text"
      },
      "source": [
        "おしまい。"
      ]
    }
  ]
}