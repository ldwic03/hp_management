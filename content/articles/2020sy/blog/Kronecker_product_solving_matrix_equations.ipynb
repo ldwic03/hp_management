{
 "cells": [
  {
   "cell_type": "markdown",
   "metadata": {},
   "source": [
    "# 行列方程式のクロネッカー積による解法"
   ]
  },
  {
   "cell_type": "markdown",
   "metadata": {},
   "source": [
    "運動制御モデルの論文を読んでいた際に，ある行列方程式の解法を忘却していたのでメモとして記事を書きました．"
   ]
  },
  {
   "cell_type": "markdown",
   "metadata": {},
   "source": [
    "## クロネッカー積\n",
    "### 定義と例\n",
    "以下，Wikipediaの説明から引用する．\n",
    "\n",
    "$A = (a_{ij})$ を $m \\times n$ 行列，$B = (b_{kl})$ を $p \\times q$ 行列とすると、それらのクロネッカー積 $A \\otimes B$ は\n",
    "\n",
    "$$\n",
    "A\\otimes B={\\begin{bmatrix}a_{11}B&\\cdots &a_{1n}B\\\\\\vdots &\\ddots &\\vdots \\\\a_{m1}B&\\cdots &a_{mn}B\\end{bmatrix}}\n",
    "$$\n",
    "\n",
    "で与えられる $mp \\times nq$ 区分行列である．例えば，\n",
    "\n",
    "$$\n",
    "\\begin{bmatrix}1&2\\\\3&4\\end{bmatrix} \\otimes {\\begin{bmatrix}0&5\\\\6&7\\end{bmatrix}}={\\begin{bmatrix}1\\cdot 0&1\\cdot 5&2\\cdot 0&2\\cdot 5\\\\1\\cdot 6&1\\cdot 7&2\\cdot 6&2\\cdot 7\\\\3\\cdot 0&3\\cdot 5&4\\cdot 0&4\\cdot 5\\\\3\\cdot 6&3\\cdot 7&4\\cdot 6&4\\cdot 7\\\\\\end{bmatrix}}={\\begin{bmatrix}0&5&0&10\\\\6&7&12&14\\\\0&15&0&20\\\\18&21&24&28\n",
    "\\end{bmatrix}}\n",
    "$$\n",
    "\n",
    "のような計算が成り立つ．"
   ]
  },
  {
   "cell_type": "markdown",
   "metadata": {},
   "source": [
    "### 実装\n",
    "Pythonでは[`numpy.kron()`](https://numpy.org/doc/stable/reference/generated/numpy.kron.html)，Juliaでは[Kronecker.jl](https://github.com/MichielStock/Kronecker.jl)を用いる．以下ではPythonを使用する．"
   ]
  },
  {
   "cell_type": "code",
   "execution_count": 1,
   "metadata": {},
   "outputs": [],
   "source": [
    "import numpy as np\n",
    "np.set_printoptions(precision=3, suppress=True) # print時の設定"
   ]
  },
  {
   "cell_type": "code",
   "execution_count": 2,
   "metadata": {},
   "outputs": [
    {
     "name": "stdout",
     "output_type": "stream",
     "text": [
      "[[ 0  5  0 10]\n",
      " [ 6  7 12 14]\n",
      " [ 0 15  0 20]\n",
      " [18 21 24 28]]\n"
     ]
    }
   ],
   "source": [
    "A = np.array([[1, 2], [3, 4]])\n",
    "B = np.array([[0, 5], [6, 7]])\n",
    "print(np.kron(A, B))"
   ]
  },
  {
   "cell_type": "markdown",
   "metadata": {},
   "source": [
    "## 行列方程式の解法"
   ]
  },
  {
   "cell_type": "markdown",
   "metadata": {},
   "source": [
    "### 1．$AX=B$\n",
    "$AX=B$の時は簡単で，Aの逆行列を求めることができれば$X=A^{-1}B$となる．"
   ]
  },
  {
   "cell_type": "code",
   "execution_count": 3,
   "metadata": {},
   "outputs": [
    {
     "name": "stdout",
     "output_type": "stream",
     "text": [
      "[[0. 5.]\n",
      " [6. 7.]]\n"
     ]
    }
   ],
   "source": [
    "X = np.linalg.inv(A) @ B\n",
    "print(A @ X)"
   ]
  },
  {
   "cell_type": "markdown",
   "metadata": {},
   "source": [
    "### 2.  $AXB = C$\n",
    "この記事の本題，クロネッカー積とRoth's column lemma (vec-trick)を用いる．Roth's column lemmaは，例えば，$A, B, C$が与えられていて，$X$を未知とするときの方程式 $AXB = C$を考えると，この方程式は\n",
    "\n",
    "$$\n",
    "(B^\\top \\otimes A)\\text{vec}(X) = \\text{vec}(AXB)=\\text{vec}(C)\n",
    "$$\n",
    "\n",
    "の形に書き下すことができる，というものである．$\\text{vec}(\\cdot)$はvec作用素（行列を列ベクトル化する作用素）である．numpyだと`flatten()`で実現できる．Roth's column lemmaを用いれば，$AXB = C$の解は\n",
    "\n",
    "$$\n",
    "X = \\text{vec}^{-1}\\left((B^\\top \\otimes A)^{-1}\\text{vec}(C)\\right)\n",
    "$$\n",
    "\n",
    "として得られる．ただし，$\\text{vec}(\\cdot)^{-1}$は列ベクトルを行列に戻す作用素(inverse of the vectorization operator)である．numpyだと`reshape()`で実現できる (numpyのベクトルはデフォルトで行ベクトルであることに注意)．2つの作用素をまとめると，\n",
    "\n",
    "$$\n",
    "\\begin{align}\n",
    "\\text{vec} &: R^{m\\times n}\\to R^{mn}\\\\\n",
    "\\text{vec}^{−1} &: R^{mn}\\to R^{m×n}\n",
    "\\end{align}\n",
    "$$\n",
    "\n",
    "であり，$\\text{vec}^{−1}\\left(\\text{vec}(X)\\right)=X\\ (\\text{for all}\\ X\\in R^{m\\times n})，\\text{vec}\\left(\\text{vec}^{−1}(x)\\right)=x\\ (\\text{for all}\\ x \\in R^{mn})$となる．\n",
    "\n",
    "以下では$P, Q, R$が与えられている際に，方程式$PYQ=R$の解$Y$を求める．"
   ]
  },
  {
   "cell_type": "code",
   "execution_count": 4,
   "metadata": {},
   "outputs": [
    {
     "name": "stdout",
     "output_type": "stream",
     "text": [
      "[[ 0  1  2  3]\n",
      " [ 4  5  6  7]\n",
      " [ 8  9 10 11]\n",
      " [12 13 14 15]]\n"
     ]
    }
   ],
   "source": [
    "m = 4\n",
    "P = np.random.randn(m, m)\n",
    "Q = np.random.randn(m, m)\n",
    "R = np.arange(m**2).reshape(m, m)\n",
    "print(R)"
   ]
  },
  {
   "cell_type": "markdown",
   "metadata": {},
   "source": [
    "上記に基づいて方程式を解く．"
   ]
  },
  {
   "cell_type": "code",
   "execution_count": 5,
   "metadata": {},
   "outputs": [
    {
     "name": "stdout",
     "output_type": "stream",
     "text": [
      "[[ 0.  1.  2.  3.]\n",
      " [ 4.  5.  6.  7.]\n",
      " [ 8.  9. 10. 11.]\n",
      " [12. 13. 14. 15.]]\n"
     ]
    }
   ],
   "source": [
    "Y = (np.linalg.inv(np.kron(P, Q.T)) @ R.flatten()).reshape(m, m)\n",
    "print(P @ Y @ Q)"
   ]
  },
  {
   "cell_type": "markdown",
   "metadata": {},
   "source": [
    "少々元の式と実装が異なるが，計算はできているので良しとしておく．"
   ]
  },
  {
   "cell_type": "markdown",
   "metadata": {},
   "source": [
    "## 参考文献\n",
    "- [クロネッカー積 - Wikipedia](https://ja.wikipedia.org/wiki/%E3%82%AF%E3%83%AD%E3%83%8D%E3%83%83%E3%82%AB%E3%83%BC%E7%A9%8D)\n",
    "- [クロネッカー積とvec作用素とRoth's column lemma - でかいチーズをベーグルする](http://yamaguchiyuto.hatenablog.com/entry/2016/11/16/100000)"
   ]
  }
 ],
 "metadata": {
  "kernelspec": {
   "display_name": "Python 3",
   "language": "python",
   "name": "python3"
  },
  "language_info": {
   "codemirror_mode": {
    "name": "ipython",
    "version": 3
   },
   "file_extension": ".py",
   "mimetype": "text/x-python",
   "name": "python",
   "nbconvert_exporter": "python",
   "pygments_lexer": "ipython3",
   "version": "3.7.6"
  }
 },
 "nbformat": 4,
 "nbformat_minor": 4
}
